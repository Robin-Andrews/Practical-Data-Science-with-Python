{
 "cells": [
  {
   "cell_type": "markdown",
   "id": "geological-malpractice",
   "metadata": {},
   "source": [
    "# Practical Data Science with Python Task #1\n",
    "\n",
    "## The task:\n",
    "\n",
    "\n",
    "> Emulate SQL `SELECT` with a pandas dataframe\n",
    "\n",
    "E.g.\n",
    "\n",
    "```\n",
    "SELECT *\n",
    "FROM table\n",
    "WHERE column_name = some_value;\n",
    "```"
   ]
  },
  {
   "cell_type": "code",
   "execution_count": 1,
   "id": "julian-feelings",
   "metadata": {
    "scrolled": true
   },
   "outputs": [
    {
     "data": {
      "application/javascript": [
       "\n",
       "            setTimeout(function() {\n",
       "                var nbb_cell_id = 1;\n",
       "                var nbb_unformatted_code = \"# Optional auto-formatting. Installation required (`pip install nb_black`)\\n%load_ext nb_black\\n\\n# Import Pandas\\nimport pandas as pd\";\n",
       "                var nbb_formatted_code = \"# Optional auto-formatting. Installation required (`pip install nb_black`)\\n%load_ext nb_black\\n\\n# Import Pandas\\nimport pandas as pd\";\n",
       "                var nbb_cells = Jupyter.notebook.get_cells();\n",
       "                for (var i = 0; i < nbb_cells.length; ++i) {\n",
       "                    if (nbb_cells[i].input_prompt_number == nbb_cell_id) {\n",
       "                        if (nbb_cells[i].get_text() == nbb_unformatted_code) {\n",
       "                             nbb_cells[i].set_text(nbb_formatted_code);\n",
       "                        }\n",
       "                        break;\n",
       "                    }\n",
       "                }\n",
       "            }, 500);\n",
       "            "
      ],
      "text/plain": [
       "<IPython.core.display.Javascript object>"
      ]
     },
     "metadata": {},
     "output_type": "display_data"
    }
   ],
   "source": [
    "# Optional auto-formatting. Installation required (`pip install nb_black`)\n",
    "%load_ext nb_black\n",
    "\n",
    "# Import Pandas\n",
    "import pandas as pd"
   ]
  },
  {
   "cell_type": "markdown",
   "id": "naughty-preview",
   "metadata": {},
   "source": [
    "## UK Best Selling Cars of 2021 up to February 5th\n",
    "\n",
    "Source: https://www.autoexpress.co.uk/news/94280/best-selling-cars-2021"
   ]
  },
  {
   "cell_type": "code",
   "execution_count": 2,
   "id": "moral-draft",
   "metadata": {},
   "outputs": [
    {
     "name": "stdout",
     "output_type": "stream",
     "text": [
      "            Model  Sales\n",
      "0  Vauxhall Corsa   3078\n",
      "1    Kia Sportage   2986\n",
      "2  Nissan Qashqai   2835\n",
      "3     Ford Fiesta   2594\n",
      "4      Volvo XC40   2201\n"
     ]
    },
    {
     "data": {
      "application/javascript": [
       "\n",
       "            setTimeout(function() {\n",
       "                var nbb_cell_id = 2;\n",
       "                var nbb_unformatted_code = \"# Create a dictionary containing our data\\ncars = {\\n    \\\"Model\\\": [\\n        \\\"Vauxhall Corsa\\\",\\n        \\\"Kia Sportage\\\",\\n        \\\"Nissan Qashqai\\\",\\n        \\\"Ford Fiesta\\\",\\n        \\\"Volvo XC40\\\",\\n    ],\\n    \\\"Sales\\\": [3078, 2986, 2835, 2594, 2201],\\n}\\n\\n# Create a pandas dataframe from the data in `cars`\\ndf = pd.DataFrame(cars, columns=[\\\"Model\\\", \\\"Sales\\\"])\\n\\n# Display the dataframe\\nprint(df)\";\n",
       "                var nbb_formatted_code = \"# Create a dictionary containing our data\\ncars = {\\n    \\\"Model\\\": [\\n        \\\"Vauxhall Corsa\\\",\\n        \\\"Kia Sportage\\\",\\n        \\\"Nissan Qashqai\\\",\\n        \\\"Ford Fiesta\\\",\\n        \\\"Volvo XC40\\\",\\n    ],\\n    \\\"Sales\\\": [3078, 2986, 2835, 2594, 2201],\\n}\\n\\n# Create a pandas dataframe from the data in `cars`\\ndf = pd.DataFrame(cars, columns=[\\\"Model\\\", \\\"Sales\\\"])\\n\\n# Display the dataframe\\nprint(df)\";\n",
       "                var nbb_cells = Jupyter.notebook.get_cells();\n",
       "                for (var i = 0; i < nbb_cells.length; ++i) {\n",
       "                    if (nbb_cells[i].input_prompt_number == nbb_cell_id) {\n",
       "                        if (nbb_cells[i].get_text() == nbb_unformatted_code) {\n",
       "                             nbb_cells[i].set_text(nbb_formatted_code);\n",
       "                        }\n",
       "                        break;\n",
       "                    }\n",
       "                }\n",
       "            }, 500);\n",
       "            "
      ],
      "text/plain": [
       "<IPython.core.display.Javascript object>"
      ]
     },
     "metadata": {},
     "output_type": "display_data"
    }
   ],
   "source": [
    "# Create a dictionary containing our data\n",
    "cars = {\n",
    "    \"Model\": [\n",
    "        \"Vauxhall Corsa\",\n",
    "        \"Kia Sportage\",\n",
    "        \"Nissan Qashqai\",\n",
    "        \"Ford Fiesta\",\n",
    "        \"Volvo XC40\",\n",
    "    ],\n",
    "    \"Sales\": [3078, 2986, 2835, 2594, 2201],\n",
    "}\n",
    "\n",
    "# Create a pandas dataframe from the data in `cars`\n",
    "df = pd.DataFrame(cars, columns=[\"Model\", \"Sales\"])\n",
    "\n",
    "# Display the dataframe\n",
    "print(df)"
   ]
  },
  {
   "cell_type": "markdown",
   "id": "closed-comedy",
   "metadata": {},
   "source": [
    "### Practice some `SELECT` statement equivalents"
   ]
  },
  {
   "cell_type": "code",
   "execution_count": 3,
   "id": "automotive-sitting",
   "metadata": {
    "scrolled": true
   },
   "outputs": [
    {
     "data": {
      "text/html": [
       "<div>\n",
       "<style scoped>\n",
       "    .dataframe tbody tr th:only-of-type {\n",
       "        vertical-align: middle;\n",
       "    }\n",
       "\n",
       "    .dataframe tbody tr th {\n",
       "        vertical-align: top;\n",
       "    }\n",
       "\n",
       "    .dataframe thead th {\n",
       "        text-align: right;\n",
       "    }\n",
       "</style>\n",
       "<table border=\"1\" class=\"dataframe\">\n",
       "  <thead>\n",
       "    <tr style=\"text-align: right;\">\n",
       "      <th></th>\n",
       "      <th>Model</th>\n",
       "      <th>Sales</th>\n",
       "    </tr>\n",
       "  </thead>\n",
       "  <tbody>\n",
       "    <tr>\n",
       "      <th>1</th>\n",
       "      <td>Kia Sportage</td>\n",
       "      <td>2986</td>\n",
       "    </tr>\n",
       "  </tbody>\n",
       "</table>\n",
       "</div>"
      ],
      "text/plain": [
       "          Model  Sales\n",
       "1  Kia Sportage   2986"
      ]
     },
     "execution_count": 3,
     "metadata": {},
     "output_type": "execute_result"
    },
    {
     "data": {
      "application/javascript": [
       "\n",
       "            setTimeout(function() {\n",
       "                var nbb_cell_id = 3;\n",
       "                var nbb_unformatted_code = \"# Use df.loc for label-based indexing\\ndf.loc[df[\\\"Model\\\"] == \\\"Kia Sportage\\\"]\";\n",
       "                var nbb_formatted_code = \"# Use df.loc for label-based indexing\\ndf.loc[df[\\\"Model\\\"] == \\\"Kia Sportage\\\"]\";\n",
       "                var nbb_cells = Jupyter.notebook.get_cells();\n",
       "                for (var i = 0; i < nbb_cells.length; ++i) {\n",
       "                    if (nbb_cells[i].input_prompt_number == nbb_cell_id) {\n",
       "                        if (nbb_cells[i].get_text() == nbb_unformatted_code) {\n",
       "                             nbb_cells[i].set_text(nbb_formatted_code);\n",
       "                        }\n",
       "                        break;\n",
       "                    }\n",
       "                }\n",
       "            }, 500);\n",
       "            "
      ],
      "text/plain": [
       "<IPython.core.display.Javascript object>"
      ]
     },
     "metadata": {},
     "output_type": "display_data"
    }
   ],
   "source": [
    "# Use df.loc for label-based indexing\n",
    "df.loc[df[\"Model\"] == \"Kia Sportage\"]"
   ]
  },
  {
   "cell_type": "code",
   "execution_count": 4,
   "id": "fluid-suicide",
   "metadata": {},
   "outputs": [
    {
     "data": {
      "text/html": [
       "<div>\n",
       "<style scoped>\n",
       "    .dataframe tbody tr th:only-of-type {\n",
       "        vertical-align: middle;\n",
       "    }\n",
       "\n",
       "    .dataframe tbody tr th {\n",
       "        vertical-align: top;\n",
       "    }\n",
       "\n",
       "    .dataframe thead th {\n",
       "        text-align: right;\n",
       "    }\n",
       "</style>\n",
       "<table border=\"1\" class=\"dataframe\">\n",
       "  <thead>\n",
       "    <tr style=\"text-align: right;\">\n",
       "      <th></th>\n",
       "      <th>Model</th>\n",
       "      <th>Sales</th>\n",
       "    </tr>\n",
       "  </thead>\n",
       "  <tbody>\n",
       "    <tr>\n",
       "      <th>0</th>\n",
       "      <td>Vauxhall Corsa</td>\n",
       "      <td>3078</td>\n",
       "    </tr>\n",
       "    <tr>\n",
       "      <th>1</th>\n",
       "      <td>Kia Sportage</td>\n",
       "      <td>2986</td>\n",
       "    </tr>\n",
       "    <tr>\n",
       "      <th>2</th>\n",
       "      <td>Nissan Qashqai</td>\n",
       "      <td>2835</td>\n",
       "    </tr>\n",
       "    <tr>\n",
       "      <th>3</th>\n",
       "      <td>Ford Fiesta</td>\n",
       "      <td>2594</td>\n",
       "    </tr>\n",
       "  </tbody>\n",
       "</table>\n",
       "</div>"
      ],
      "text/plain": [
       "            Model  Sales\n",
       "0  Vauxhall Corsa   3078\n",
       "1    Kia Sportage   2986\n",
       "2  Nissan Qashqai   2835\n",
       "3     Ford Fiesta   2594"
      ]
     },
     "execution_count": 4,
     "metadata": {},
     "output_type": "execute_result"
    },
    {
     "data": {
      "application/javascript": [
       "\n",
       "            setTimeout(function() {\n",
       "                var nbb_cell_id = 4;\n",
       "                var nbb_unformatted_code = \"df.loc[df[\\\"Sales\\\"] > 2500]\";\n",
       "                var nbb_formatted_code = \"df.loc[df[\\\"Sales\\\"] > 2500]\";\n",
       "                var nbb_cells = Jupyter.notebook.get_cells();\n",
       "                for (var i = 0; i < nbb_cells.length; ++i) {\n",
       "                    if (nbb_cells[i].input_prompt_number == nbb_cell_id) {\n",
       "                        if (nbb_cells[i].get_text() == nbb_unformatted_code) {\n",
       "                             nbb_cells[i].set_text(nbb_formatted_code);\n",
       "                        }\n",
       "                        break;\n",
       "                    }\n",
       "                }\n",
       "            }, 500);\n",
       "            "
      ],
      "text/plain": [
       "<IPython.core.display.Javascript object>"
      ]
     },
     "metadata": {},
     "output_type": "display_data"
    }
   ],
   "source": [
    "df.loc[df[\"Sales\"] > 2500]"
   ]
  },
  {
   "cell_type": "code",
   "execution_count": 5,
   "id": "victorian-justice",
   "metadata": {},
   "outputs": [
    {
     "data": {
      "text/html": [
       "<div>\n",
       "<style scoped>\n",
       "    .dataframe tbody tr th:only-of-type {\n",
       "        vertical-align: middle;\n",
       "    }\n",
       "\n",
       "    .dataframe tbody tr th {\n",
       "        vertical-align: top;\n",
       "    }\n",
       "\n",
       "    .dataframe thead th {\n",
       "        text-align: right;\n",
       "    }\n",
       "</style>\n",
       "<table border=\"1\" class=\"dataframe\">\n",
       "  <thead>\n",
       "    <tr style=\"text-align: right;\">\n",
       "      <th></th>\n",
       "      <th>Model</th>\n",
       "      <th>Sales</th>\n",
       "    </tr>\n",
       "  </thead>\n",
       "  <tbody>\n",
       "    <tr>\n",
       "      <th>0</th>\n",
       "      <td>Vauxhall Corsa</td>\n",
       "      <td>3078</td>\n",
       "    </tr>\n",
       "    <tr>\n",
       "      <th>4</th>\n",
       "      <td>Volvo XC40</td>\n",
       "      <td>2201</td>\n",
       "    </tr>\n",
       "  </tbody>\n",
       "</table>\n",
       "</div>"
      ],
      "text/plain": [
       "            Model  Sales\n",
       "0  Vauxhall Corsa   3078\n",
       "4      Volvo XC40   2201"
      ]
     },
     "execution_count": 5,
     "metadata": {},
     "output_type": "execute_result"
    },
    {
     "data": {
      "application/javascript": [
       "\n",
       "            setTimeout(function() {\n",
       "                var nbb_cell_id = 5;\n",
       "                var nbb_unformatted_code = \"# Search for a string\\ndf.loc[df[\\\"Model\\\"].str.contains(\\\"V\\\")]\";\n",
       "                var nbb_formatted_code = \"# Search for a string\\ndf.loc[df[\\\"Model\\\"].str.contains(\\\"V\\\")]\";\n",
       "                var nbb_cells = Jupyter.notebook.get_cells();\n",
       "                for (var i = 0; i < nbb_cells.length; ++i) {\n",
       "                    if (nbb_cells[i].input_prompt_number == nbb_cell_id) {\n",
       "                        if (nbb_cells[i].get_text() == nbb_unformatted_code) {\n",
       "                             nbb_cells[i].set_text(nbb_formatted_code);\n",
       "                        }\n",
       "                        break;\n",
       "                    }\n",
       "                }\n",
       "            }, 500);\n",
       "            "
      ],
      "text/plain": [
       "<IPython.core.display.Javascript object>"
      ]
     },
     "metadata": {},
     "output_type": "display_data"
    }
   ],
   "source": [
    "# Search for a string\n",
    "df.loc[df[\"Model\"].str.contains(\"V\")]"
   ]
  },
  {
   "cell_type": "code",
   "execution_count": 6,
   "id": "excited-appointment",
   "metadata": {},
   "outputs": [
    {
     "data": {
      "text/html": [
       "<div>\n",
       "<style scoped>\n",
       "    .dataframe tbody tr th:only-of-type {\n",
       "        vertical-align: middle;\n",
       "    }\n",
       "\n",
       "    .dataframe tbody tr th {\n",
       "        vertical-align: top;\n",
       "    }\n",
       "\n",
       "    .dataframe thead th {\n",
       "        text-align: right;\n",
       "    }\n",
       "</style>\n",
       "<table border=\"1\" class=\"dataframe\">\n",
       "  <thead>\n",
       "    <tr style=\"text-align: right;\">\n",
       "      <th></th>\n",
       "      <th>Model</th>\n",
       "      <th>Sales</th>\n",
       "    </tr>\n",
       "  </thead>\n",
       "  <tbody>\n",
       "    <tr>\n",
       "      <th>0</th>\n",
       "      <td>Vauxhall Corsa</td>\n",
       "      <td>3078</td>\n",
       "    </tr>\n",
       "    <tr>\n",
       "      <th>1</th>\n",
       "      <td>Kia Sportage</td>\n",
       "      <td>2986</td>\n",
       "    </tr>\n",
       "    <tr>\n",
       "      <th>4</th>\n",
       "      <td>Volvo XC40</td>\n",
       "      <td>2201</td>\n",
       "    </tr>\n",
       "  </tbody>\n",
       "</table>\n",
       "</div>"
      ],
      "text/plain": [
       "            Model  Sales\n",
       "0  Vauxhall Corsa   3078\n",
       "1    Kia Sportage   2986\n",
       "4      Volvo XC40   2201"
      ]
     },
     "execution_count": 6,
     "metadata": {},
     "output_type": "execute_result"
    },
    {
     "data": {
      "application/javascript": [
       "\n",
       "            setTimeout(function() {\n",
       "                var nbb_cell_id = 6;\n",
       "                var nbb_unformatted_code = \"# Multiple conditions\\n# Use `&`, `|`, `~` for and , or, not\\n# Parentheses required due to precedence of logic and comparision operators\\ndf.loc[(df[\\\"Model\\\"].str.contains(\\\"V\\\")) | (df[\\\"Sales\\\"] == 2986)]\";\n",
       "                var nbb_formatted_code = \"# Multiple conditions\\n# Use `&`, `|`, `~` for and , or, not\\n# Parentheses required due to precedence of logic and comparision operators\\ndf.loc[(df[\\\"Model\\\"].str.contains(\\\"V\\\")) | (df[\\\"Sales\\\"] == 2986)]\";\n",
       "                var nbb_cells = Jupyter.notebook.get_cells();\n",
       "                for (var i = 0; i < nbb_cells.length; ++i) {\n",
       "                    if (nbb_cells[i].input_prompt_number == nbb_cell_id) {\n",
       "                        if (nbb_cells[i].get_text() == nbb_unformatted_code) {\n",
       "                             nbb_cells[i].set_text(nbb_formatted_code);\n",
       "                        }\n",
       "                        break;\n",
       "                    }\n",
       "                }\n",
       "            }, 500);\n",
       "            "
      ],
      "text/plain": [
       "<IPython.core.display.Javascript object>"
      ]
     },
     "metadata": {},
     "output_type": "display_data"
    }
   ],
   "source": [
    "# Multiple conditions\n",
    "# Use `&`, `|`, `~` for and , or, not\n",
    "# Parentheses required due to precedence of logic and comparision operators\n",
    "df.loc[(df[\"Model\"].str.contains(\"V\")) | (df[\"Sales\"] == 2986)]"
   ]
  },
  {
   "cell_type": "markdown",
   "id": "human-wildlife",
   "metadata": {},
   "source": [
    "***\n",
    "That is how you can query pandas dataframes in a similar way to using SQL `SELECT` statements.\n",
    "\n",
    "Happy Computing!"
   ]
  }
 ],
 "metadata": {
  "kernelspec": {
   "display_name": "Python 3",
   "language": "python",
   "name": "python3"
  },
  "language_info": {
   "codemirror_mode": {
    "name": "ipython",
    "version": 3
   },
   "file_extension": ".py",
   "mimetype": "text/x-python",
   "name": "python",
   "nbconvert_exporter": "python",
   "pygments_lexer": "ipython3",
   "version": "3.9.0"
  }
 },
 "nbformat": 4,
 "nbformat_minor": 5
}
